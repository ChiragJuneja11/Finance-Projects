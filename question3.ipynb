{
 "cells": [
  {
   "cell_type": "code",
   "execution_count": 1,
   "metadata": {},
   "outputs": [],
   "source": [
    "import numpy as np\n",
    "from random import gauss\n",
    "import pandas as pd\n",
    "from scipy.stats import norm\n",
    "import yfinance as yf"
   ]
  },
  {
   "cell_type": "code",
   "execution_count": 2,
   "metadata": {},
   "outputs": [],
   "source": [
    "stock_price = 19265.80 #current market price\n",
    "strike_price = 19500.00\n",
    "call = 311.85\n",
    "put = 378.00\n",
    "expiry = 41/252 #26th October 2023\n",
    "\n",
    "#input data for NIFTY 50 19000 as on 25th August 2023"
   ]
  },
  {
   "cell_type": "markdown",
   "metadata": {},
   "source": [
    "### So to create simulations for asset pricing we need to use stochastic differential equation."
   ]
  },
  {
   "cell_type": "markdown",
   "metadata": {},
   "source": [
    "### S(t)=S(o)e(μ−σ^2)dt+σdW(t)\n",
    "#### Where S(t) is Simulated Price and S(o) is the Spot Price or Market Price"
   ]
  },
  {
   "cell_type": "code",
   "execution_count": 3,
   "metadata": {},
   "outputs": [],
   "source": [
    "def generate_asset_price(stockPrice,impliedVolatility,riskFreerateofReturn,timeToMaturity):\n",
    "    return stockPrice*np.exp((riskFreerateofReturn-impliedVolatility**2)*timeToMaturity+impliedVolatility*np.sqrt(timeToMaturity)*gauss(0,1))"
   ]
  },
  {
   "cell_type": "code",
   "execution_count": 4,
   "metadata": {},
   "outputs": [],
   "source": [
    "def call_payoff(strikePrice,stockPrice):\n",
    "    return max(stockPrice-strikePrice,0)\n",
    "\n",
    "def put_payoff(strikePrice,stockPrice):\n",
    "    return max(strikePrice-stockPrice,0)"
   ]
  },
  {
   "cell_type": "code",
   "execution_count": 5,
   "metadata": {},
   "outputs": [],
   "source": [
    "StockPrice = stock_price\n",
    "StrikePrice = strike_price\n",
    "TimetoMaturity = expiry\n",
    "RiskFreerate = 0.1\n",
    "ImpliedVolatility = 0.114 #Volatility Index as on 25th August 2023\n",
    "#ImpliedVolatility = (yf.Ticker(\"^INDIAVIX\")).history(period=\"1d\")[\"Close\"][0]\n",
    "dividend = 0\n",
    "#print(ImpliedVolatility)"
   ]
  },
  {
   "cell_type": "code",
   "execution_count": 6,
   "metadata": {},
   "outputs": [],
   "source": [
    "numberofsimulations = 10000\n",
    "\n",
    "Call_payoff = []\n",
    "Put_payoff = []\n",
    "\n",
    "#creating new lists in which values will be appended in order to get the list for call and put option prices\n",
    "\n",
    "\n",
    "discountfactor = np.exp(-RiskFreerate*TimetoMaturity)\n",
    "#print(discountfactor)"
   ]
  },
  {
   "cell_type": "code",
   "execution_count": 7,
   "metadata": {},
   "outputs": [],
   "source": [
    "for i in range(numberofsimulations):\n",
    "    StockPriceAT = round(generate_asset_price(StockPrice,ImpliedVolatility,RiskFreerate,TimetoMaturity),2)\n",
    "    Call_payoff.append(call_payoff(StrikePrice,StockPriceAT))\n",
    "    Put_payoff.append(put_payoff(StrikePrice,StockPriceAT))\n",
    "#print(sum(Call_payoff)/numberofsimulations)\n",
    "#print(sum(Put_payoff)/numberofsimulations)\n"
   ]
  },
  {
   "cell_type": "code",
   "execution_count": 8,
   "metadata": {},
   "outputs": [],
   "source": [
    "call_option_price = discountfactor*(sum(Call_payoff)/numberofsimulations)\n",
    "#print(call_option_price)\n",
    "put_option_price = discountfactor*(sum(Put_payoff)/numberofsimulations)\n",
    "#print(put_option_price)"
   ]
  },
  {
   "cell_type": "code",
   "execution_count": 9,
   "metadata": {},
   "outputs": [
    {
     "name": "stdout",
     "output_type": "stream",
     "text": [
      "394.36070448713144\n",
      "313.8657599415201\n"
     ]
    }
   ],
   "source": [
    "def black_scholes_call(stock_price,strike_price,TimetoMaturity,RiskFreerate,dividend,ImpliedVolatility):\n",
    "    \n",
    "    #Inputs\n",
    "    #stock_price = Current stock Price\n",
    "    #strike_price = Strike Price\n",
    "    #TimetoMaturity = Time to maturity 1 year = 1, 1 months = 1/12\n",
    "    #RiskFreerate = risk free interest rate\n",
    "    #dividend = dividend yield\n",
    "    #ImpliedVolatility = volatility \n",
    "    \n",
    "    #Output\n",
    "    # call_price = value of the option \n",
    "    \n",
    "    d1 = (np.log(stock_price/strike_price) + (RiskFreerate - dividend + ImpliedVolatility**2/2)*TimetoMaturity) / (ImpliedVolatility*np.sqrt(TimetoMaturity))\n",
    "    d2 = d1 - ImpliedVolatility* np.sqrt(TimetoMaturity)\n",
    "    \n",
    "    call = stock_price * np.exp(-dividend*TimetoMaturity)* norm.cdf(d1) - strike_price * np.exp(-RiskFreerate*TimetoMaturity)*norm.cdf(d2)\n",
    "    return call\n",
    "\n",
    "a = black_scholes_call(stock_price,strike_price,TimetoMaturity,RiskFreerate,dividend,ImpliedVolatility)\n",
    "b = a + strike_price*np.exp(-RiskFreerate*TimetoMaturity) - stock_price #using call-put parity\n",
    "print(a)\n",
    "print(b)"
   ]
  },
  {
   "cell_type": "code",
   "execution_count": 10,
   "metadata": {},
   "outputs": [
    {
     "name": "stdout",
     "output_type": "stream",
     "text": [
      "Call Option Price from the Monte Carlo Simulation is 383.09\n",
      "Put Option Price from the Monte Carlo Simulation is 313.65\n",
      "Call Option Price from the Black Scholes Model is 394.36\n",
      "Call Option Price from market data is 311.85\n"
     ]
    }
   ],
   "source": [
    "print(\"Call Option Price from the Monte Carlo Simulation is\",round(call_option_price,2))\n",
    "print(\"Put Option Price from the Monte Carlo Simulation is\",round(put_option_price,2))\n",
    "print(\"Call Option Price from the Black Scholes Model is\",round(a,2))\n",
    "print(\"Call Option Price from market data is\",round(call,2))"
   ]
  },
  {
   "cell_type": "markdown",
   "metadata": {},
   "source": [
    "## Conclusion"
   ]
  },
  {
   "cell_type": "code",
   "execution_count": 11,
   "metadata": {},
   "outputs": [
    {
     "name": "stdout",
     "output_type": "stream",
     "text": [
      "As the call option price is less than the real option price, which means option is overpriced and it is suggested to hold/buy the option\n"
     ]
    }
   ],
   "source": [
    "if call_option_price < call:\n",
    "    print(\"As the call option price is less than the real option price, which means option is underpriced and it is suggested to sell the option\")\n",
    "else:\n",
    "    print(\"As the call option price is less than the real option price, which means option is overpriced and it is suggested to hold/buy the option\")"
   ]
  }
 ],
 "metadata": {
  "kernelspec": {
   "display_name": "Python 3",
   "language": "python",
   "name": "python3"
  },
  "language_info": {
   "codemirror_mode": {
    "name": "ipython",
    "version": 3
   },
   "file_extension": ".py",
   "mimetype": "text/x-python",
   "name": "python",
   "nbconvert_exporter": "python",
   "pygments_lexer": "ipython3",
   "version": "3.11.3"
  },
  "orig_nbformat": 4
 },
 "nbformat": 4,
 "nbformat_minor": 2
}
