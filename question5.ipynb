{
 "cells": [
  {
   "cell_type": "code",
   "execution_count": 1,
   "metadata": {},
   "outputs": [],
   "source": [
    "import numpy as np\n",
    "import pandas as pd\n",
    "import matplotlib.pyplot as plt\n",
    "\n",
    "import warnings\n",
    "warnings.filterwarnings('ignore')"
   ]
  },
  {
   "cell_type": "code",
   "execution_count": 2,
   "metadata": {},
   "outputs": [],
   "source": [
    "principal = 100"
   ]
  },
  {
   "cell_type": "code",
   "execution_count": 3,
   "metadata": {},
   "outputs": [
    {
     "data": {
      "text/html": [
       "<div>\n",
       "<style scoped>\n",
       "    .dataframe tbody tr th:only-of-type {\n",
       "        vertical-align: middle;\n",
       "    }\n",
       "\n",
       "    .dataframe tbody tr th {\n",
       "        vertical-align: top;\n",
       "    }\n",
       "\n",
       "    .dataframe thead th {\n",
       "        text-align: right;\n",
       "    }\n",
       "</style>\n",
       "<table border=\"1\" class=\"dataframe\">\n",
       "  <thead>\n",
       "    <tr style=\"text-align: right;\">\n",
       "      <th></th>\n",
       "      <th>Time (in months)</th>\n",
       "      <th>Time (in years)</th>\n",
       "      <th>Rate (in %)</th>\n",
       "      <th>Present Value</th>\n",
       "      <th>Modified Duration</th>\n",
       "      <th>DV01</th>\n",
       "    </tr>\n",
       "  </thead>\n",
       "  <tbody>\n",
       "    <tr>\n",
       "      <th>0</th>\n",
       "      <td>1</td>\n",
       "      <td>0.083333</td>\n",
       "      <td>0.054386</td>\n",
       "      <td>0</td>\n",
       "      <td>0</td>\n",
       "      <td>0</td>\n",
       "    </tr>\n",
       "    <tr>\n",
       "      <th>1</th>\n",
       "      <td>3</td>\n",
       "      <td>0.250000</td>\n",
       "      <td>0.056586</td>\n",
       "      <td>0</td>\n",
       "      <td>0</td>\n",
       "      <td>0</td>\n",
       "    </tr>\n",
       "    <tr>\n",
       "      <th>2</th>\n",
       "      <td>6</td>\n",
       "      <td>0.500000</td>\n",
       "      <td>0.058968</td>\n",
       "      <td>0</td>\n",
       "      <td>0</td>\n",
       "      <td>0</td>\n",
       "    </tr>\n",
       "  </tbody>\n",
       "</table>\n",
       "</div>"
      ],
      "text/plain": [
       "   Time (in months)  Time (in years)  Rate (in %)  Present Value   \n",
       "0                 1         0.083333     0.054386              0  \\\n",
       "1                 3         0.250000     0.056586              0   \n",
       "2                 6         0.500000     0.058968              0   \n",
       "\n",
       "   Modified Duration  DV01  \n",
       "0                  0     0  \n",
       "1                  0     0  \n",
       "2                  0     0  "
      ]
     },
     "execution_count": 3,
     "metadata": {},
     "output_type": "execute_result"
    }
   ],
   "source": [
    "libor_rate = pd.DataFrame({\"Time (in months)\":[1,3,6],\n",
    "                           \"Time (in years)\":[1/12,3/12,6/12],\n",
    "                           \"Rate (in %)\":[0.0543857,0.0565863,0.0589683],\n",
    "                           \"Present Value\":[0 for i in range(3)],\n",
    "                           \"Modified Duration\":[0 for i in range(3)],\n",
    "                           \"DV01\":[0 for i in range(3)]})\n",
    "libor_rate.head(5)"
   ]
  },
  {
   "cell_type": "code",
   "execution_count": 4,
   "metadata": {},
   "outputs": [],
   "source": [
    "def dv01(present_value,modified_duration):\n",
    "    return present_value*modified_duration/10000\n",
    "\n",
    "def modified_duration(maturity,Rate):\n",
    "    return maturity/(1+Rate)\n",
    "\n",
    "def present_value(face_value,maturity,Rate):\n",
    "    return face_value*np.exp(-Rate*maturity)"
   ]
  },
  {
   "cell_type": "code",
   "execution_count": 5,
   "metadata": {},
   "outputs": [],
   "source": [
    "for i in range(3):\n",
    "    libor_rate[\"Modified Duration\"][i] = modified_duration(libor_rate[\"Time (in years)\"][i],libor_rate[\"Rate (in %)\"][i])\n",
    "    libor_rate[\"DV01\"][i] = dv01(present_value(principal,libor_rate[\"Time (in years)\"][i],libor_rate[\"Rate (in %)\"][i]),modified_duration(libor_rate[\"Time (in years)\"][i],libor_rate[\"Rate (in %)\"][i]))\n",
    "    libor_rate[\"Present Value\"][i] = present_value(principal,libor_rate[\"Time (in years)\"][i],libor_rate[\"Rate (in %)\"][i])\n",
    "    libor_rate[\"Modified Duration\"][i] = modified_duration(libor_rate[\"Time (in years)\"][i],libor_rate[\"Rate (in %)\"][i])"
   ]
  },
  {
   "cell_type": "code",
   "execution_count": 6,
   "metadata": {},
   "outputs": [
    {
     "data": {
      "text/html": [
       "<div>\n",
       "<style scoped>\n",
       "    .dataframe tbody tr th:only-of-type {\n",
       "        vertical-align: middle;\n",
       "    }\n",
       "\n",
       "    .dataframe tbody tr th {\n",
       "        vertical-align: top;\n",
       "    }\n",
       "\n",
       "    .dataframe thead th {\n",
       "        text-align: right;\n",
       "    }\n",
       "</style>\n",
       "<table border=\"1\" class=\"dataframe\">\n",
       "  <thead>\n",
       "    <tr style=\"text-align: right;\">\n",
       "      <th></th>\n",
       "      <th>Time (in months)</th>\n",
       "      <th>Time (in years)</th>\n",
       "      <th>Rate (in %)</th>\n",
       "      <th>Present Value</th>\n",
       "      <th>Modified Duration</th>\n",
       "      <th>DV01</th>\n",
       "    </tr>\n",
       "  </thead>\n",
       "  <tbody>\n",
       "    <tr>\n",
       "      <th>0</th>\n",
       "      <td>1</td>\n",
       "      <td>0.083333</td>\n",
       "      <td>0.054386</td>\n",
       "      <td>99.547811</td>\n",
       "      <td>0.079035</td>\n",
       "      <td>0.000787</td>\n",
       "    </tr>\n",
       "    <tr>\n",
       "      <th>1</th>\n",
       "      <td>3</td>\n",
       "      <td>0.250000</td>\n",
       "      <td>0.056586</td>\n",
       "      <td>98.595302</td>\n",
       "      <td>0.236611</td>\n",
       "      <td>0.002333</td>\n",
       "    </tr>\n",
       "    <tr>\n",
       "      <th>2</th>\n",
       "      <td>6</td>\n",
       "      <td>0.500000</td>\n",
       "      <td>0.058968</td>\n",
       "      <td>97.094627</td>\n",
       "      <td>0.472158</td>\n",
       "      <td>0.004584</td>\n",
       "    </tr>\n",
       "  </tbody>\n",
       "</table>\n",
       "</div>"
      ],
      "text/plain": [
       "   Time (in months)  Time (in years)  Rate (in %)  Present Value   \n",
       "0                 1         0.083333     0.054386      99.547811  \\\n",
       "1                 3         0.250000     0.056586      98.595302   \n",
       "2                 6         0.500000     0.058968      97.094627   \n",
       "\n",
       "   Modified Duration      DV01  \n",
       "0           0.079035  0.000787  \n",
       "1           0.236611  0.002333  \n",
       "2           0.472158  0.004584  "
      ]
     },
     "execution_count": 6,
     "metadata": {},
     "output_type": "execute_result"
    }
   ],
   "source": [
    "libor_rate.head()"
   ]
  },
  {
   "cell_type": "code",
   "execution_count": 7,
   "metadata": {},
   "outputs": [
    {
     "data": {
      "image/png": "[encoded data removed]",
      "text/plain": [
       "<Figure size 640x480 with 1 Axes>"
      ]
     },
     "metadata": {},
     "output_type": "display_data"
    }
   ],
   "source": [
    "# Plot the second line\n",
    "plt.plot(libor_rate[\"Time (in months)\"],libor_rate[\"DV01\"], label='DV01')\n",
    "\n",
    "#plt.plot(libor_rate[\"Rate (in %)\"],libor_rate[\"Time (in months)\"], label='Rate(in%)')\n",
    "\n",
    "# Add labels and a legend\n",
    "plt.ylabel('DV01')\n",
    "plt.xlabel('Time (in months)')\n",
    "plt.legend()\n",
    "\n",
    "# Show the plot\n",
    "plt.show()\n"
   ]
  }
 ],
 "metadata": {
  "kernelspec": {
   "display_name": "Python 3",
   "language": "python",
   "name": "python3"
  },
  "language_info": {
   "codemirror_mode": {
    "name": "ipython",
    "version": 3
   },
   "file_extension": ".py",
   "mimetype": "text/x-python",
   "name": "python",
   "nbconvert_exporter": "python",
   "pygments_lexer": "ipython3",
   "version": "3.11.3"
  },
  "orig_nbformat": 4
 },
 "nbformat": 4,
 "nbformat_minor": 2
}
